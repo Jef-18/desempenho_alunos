{
  "nbformat": 4,
  "nbformat_minor": 0,
  "metadata": {
    "colab": {
      "name": "PROJETO PY.ipynb",
      "provenance": [],
      "collapsed_sections": []
    },
    "kernelspec": {
      "name": "python3",
      "display_name": "Python 3"
    },
    "language_info": {
      "name": "python"
    }
  },
  "cells": [
    {
      "cell_type": "markdown",
      "metadata": {
        "id": "wFKdPIt3thqz"
      },
      "source": [
        "# Desempenho dos alunos em exames \n"
      ]
    },
    {
      "cell_type": "markdown",
      "metadata": {
        "id": "1-awpxcETMk9"
      },
      "source": [
        "## 1 - Leitura de dados com pandas:"
      ]
    },
    {
      "cell_type": "code",
      "metadata": {
        "id": "8RNlHMb1MaL4"
      },
      "source": [
        "# importando as bibliotecas\n",
        "import matplotlib.pyplot as plt\n",
        "import pandas as pd\n",
        "\n",
        "#Aluno: Jeferson da Silva Almeida - RA: 621101924"
      ],
      "execution_count": 93,
      "outputs": []
    },
    {
      "cell_type": "code",
      "metadata": {
        "id": "v6eUIIrRs56s"
      },
      "source": [
        "# lendo o arquivo csv\n",
        "df_students = pd.read_csv('/home/Student_Performance.csv')"
      ],
      "execution_count": 94,
      "outputs": []
    },
    {
      "cell_type": "code",
      "metadata": {
        "id": "AgdEKy889xFQ",
        "colab": {
          "base_uri": "https://localhost:8080/"
        },
        "outputId": "b6a1dcd4-b939-4a12-8529-0ab32eb8b5dc"
      },
      "source": [
        "# exibindo informações do csv\n",
        "print(df_students)"
      ],
      "execution_count": 95,
      "outputs": [
        {
          "output_type": "stream",
          "name": "stdout",
          "text": [
            "     Unnamed: 0 race/ethnicity  ... writing score percentage sex\n",
            "0             0        group B  ...                     0.74   F\n",
            "1             1        group C  ...                     0.88   F\n",
            "2             2        group B  ...                     0.93   F\n",
            "3             3        group A  ...                     0.44   M\n",
            "4             4        group C  ...                     0.75   M\n",
            "..          ...            ...  ...                      ...  ..\n",
            "995         995        group E  ...                     0.95   F\n",
            "996         996        group C  ...                     0.55   M\n",
            "997         997        group C  ...                     0.65   F\n",
            "998         998        group D  ...                     0.77   F\n",
            "999         999        group D  ...                     0.86   F\n",
            "\n",
            "[1000 rows x 9 columns]\n"
          ]
        }
      ]
    },
    {
      "cell_type": "markdown",
      "metadata": {
        "id": "wLxT3CvY9r6_"
      },
      "source": [
        "## 2 - Manipulação e limpeza de dados com pandas:"
      ]
    },
    {
      "cell_type": "markdown",
      "metadata": {
        "id": "edTrdHc7uIJ7"
      },
      "source": [
        "**COLUNAS DO DATAFRAME**: raça/etnia, nível de educação dos pais, almoço, curso  de preparação para o teste, porcentagem de matemática, porcentagem de pontuação de leitura, porcentagem de pontuação de escrita e sexo."
      ]
    },
    {
      "cell_type": "code",
      "metadata": {
        "colab": {
          "base_uri": "https://localhost:8080/",
          "height": 202
        },
        "id": "yf-EZOFdt-Dn",
        "outputId": "417b1121-007a-4657-c0d9-9e4f281ddf4c"
      },
      "source": [
        "# exibindo o cabeçalho do dataframe\n",
        "df_students.head(5)"
      ],
      "execution_count": 96,
      "outputs": [
        {
          "output_type": "execute_result",
          "data": {
            "text/html": [
              "<div>\n",
              "<style scoped>\n",
              "    .dataframe tbody tr th:only-of-type {\n",
              "        vertical-align: middle;\n",
              "    }\n",
              "\n",
              "    .dataframe tbody tr th {\n",
              "        vertical-align: top;\n",
              "    }\n",
              "\n",
              "    .dataframe thead th {\n",
              "        text-align: right;\n",
              "    }\n",
              "</style>\n",
              "<table border=\"1\" class=\"dataframe\">\n",
              "  <thead>\n",
              "    <tr style=\"text-align: right;\">\n",
              "      <th></th>\n",
              "      <th>Unnamed: 0</th>\n",
              "      <th>race/ethnicity</th>\n",
              "      <th>parental level of education</th>\n",
              "      <th>lunch</th>\n",
              "      <th>test preparation course</th>\n",
              "      <th>math percentage</th>\n",
              "      <th>reading score percentage</th>\n",
              "      <th>writing score percentage</th>\n",
              "      <th>sex</th>\n",
              "    </tr>\n",
              "  </thead>\n",
              "  <tbody>\n",
              "    <tr>\n",
              "      <th>0</th>\n",
              "      <td>0</td>\n",
              "      <td>group B</td>\n",
              "      <td>bachelor's degree</td>\n",
              "      <td>standard</td>\n",
              "      <td>none</td>\n",
              "      <td>0.72</td>\n",
              "      <td>0.72</td>\n",
              "      <td>0.74</td>\n",
              "      <td>F</td>\n",
              "    </tr>\n",
              "    <tr>\n",
              "      <th>1</th>\n",
              "      <td>1</td>\n",
              "      <td>group C</td>\n",
              "      <td>some college</td>\n",
              "      <td>standard</td>\n",
              "      <td>completed</td>\n",
              "      <td>0.69</td>\n",
              "      <td>0.90</td>\n",
              "      <td>0.88</td>\n",
              "      <td>F</td>\n",
              "    </tr>\n",
              "    <tr>\n",
              "      <th>2</th>\n",
              "      <td>2</td>\n",
              "      <td>group B</td>\n",
              "      <td>master's degree</td>\n",
              "      <td>standard</td>\n",
              "      <td>none</td>\n",
              "      <td>0.90</td>\n",
              "      <td>0.95</td>\n",
              "      <td>0.93</td>\n",
              "      <td>F</td>\n",
              "    </tr>\n",
              "    <tr>\n",
              "      <th>3</th>\n",
              "      <td>3</td>\n",
              "      <td>group A</td>\n",
              "      <td>associate's degree</td>\n",
              "      <td>free/reduced</td>\n",
              "      <td>none</td>\n",
              "      <td>0.47</td>\n",
              "      <td>0.57</td>\n",
              "      <td>0.44</td>\n",
              "      <td>M</td>\n",
              "    </tr>\n",
              "    <tr>\n",
              "      <th>4</th>\n",
              "      <td>4</td>\n",
              "      <td>group C</td>\n",
              "      <td>some college</td>\n",
              "      <td>standard</td>\n",
              "      <td>none</td>\n",
              "      <td>0.76</td>\n",
              "      <td>0.78</td>\n",
              "      <td>0.75</td>\n",
              "      <td>M</td>\n",
              "    </tr>\n",
              "  </tbody>\n",
              "</table>\n",
              "</div>"
            ],
            "text/plain": [
              "   Unnamed: 0 race/ethnicity  ... writing score percentage sex\n",
              "0           0        group B  ...                     0.74   F\n",
              "1           1        group C  ...                     0.88   F\n",
              "2           2        group B  ...                     0.93   F\n",
              "3           3        group A  ...                     0.44   M\n",
              "4           4        group C  ...                     0.75   M\n",
              "\n",
              "[5 rows x 9 columns]"
            ]
          },
          "metadata": {},
          "execution_count": 96
        }
      ]
    },
    {
      "cell_type": "markdown",
      "metadata": {
        "id": "Oj7CjcGDyrZP"
      },
      "source": [
        "**TIPOS** DE **DADOS** E **DETALHES** DAS COLUNAS"
      ]
    },
    {
      "cell_type": "code",
      "metadata": {
        "colab": {
          "base_uri": "https://localhost:8080/"
        },
        "id": "SRkcM2kvzHKW",
        "outputId": "8160b55f-6ebb-4e6a-8fcb-28dacbb13f1c"
      },
      "source": [
        "# exibindo informações do dataframe\n",
        "df_students.info()"
      ],
      "execution_count": 97,
      "outputs": [
        {
          "output_type": "stream",
          "name": "stdout",
          "text": [
            "<class 'pandas.core.frame.DataFrame'>\n",
            "RangeIndex: 1000 entries, 0 to 999\n",
            "Data columns (total 9 columns):\n",
            " #   Column                       Non-Null Count  Dtype  \n",
            "---  ------                       --------------  -----  \n",
            " 0   Unnamed: 0                   1000 non-null   int64  \n",
            " 1   race/ethnicity               1000 non-null   object \n",
            " 2   parental level of education  1000 non-null   object \n",
            " 3   lunch                        1000 non-null   object \n",
            " 4   test preparation course      1000 non-null   object \n",
            " 5   math percentage              1000 non-null   float64\n",
            " 6   reading score percentage     1000 non-null   float64\n",
            " 7   writing score percentage     1000 non-null   float64\n",
            " 8   sex                          1000 non-null   object \n",
            "dtypes: float64(3), int64(1), object(5)\n",
            "memory usage: 70.4+ KB\n"
          ]
        }
      ]
    },
    {
      "cell_type": "markdown",
      "metadata": {
        "id": "6i-ugU9wMYRR"
      },
      "source": [
        "**DELETANDO** A COLUNA **LUNCH**"
      ]
    },
    {
      "cell_type": "code",
      "metadata": {
        "colab": {
          "base_uri": "https://localhost:8080/",
          "height": 202
        },
        "id": "6oWh6Pw1Ll13",
        "outputId": "202e6d56-8953-44a1-fe01-3590d68bdef2"
      },
      "source": [
        "#deletando a coluna lunch \"almoço\" do dataframe, pois não iremos utilizá-la\n",
        "df_students.drop(['lunch'], axis = 1, inplace = True)  \n",
        "df_students.head(5)"
      ],
      "execution_count": 9,
      "outputs": [
        {
          "output_type": "execute_result",
          "data": {
            "text/html": [
              "<div>\n",
              "<style scoped>\n",
              "    .dataframe tbody tr th:only-of-type {\n",
              "        vertical-align: middle;\n",
              "    }\n",
              "\n",
              "    .dataframe tbody tr th {\n",
              "        vertical-align: top;\n",
              "    }\n",
              "\n",
              "    .dataframe thead th {\n",
              "        text-align: right;\n",
              "    }\n",
              "</style>\n",
              "<table border=\"1\" class=\"dataframe\">\n",
              "  <thead>\n",
              "    <tr style=\"text-align: right;\">\n",
              "      <th></th>\n",
              "      <th>Unnamed: 0</th>\n",
              "      <th>race/ethnicity</th>\n",
              "      <th>parental level of education</th>\n",
              "      <th>test preparation course</th>\n",
              "      <th>math percentage</th>\n",
              "      <th>reading score percentage</th>\n",
              "      <th>writing score percentage</th>\n",
              "      <th>sex</th>\n",
              "    </tr>\n",
              "  </thead>\n",
              "  <tbody>\n",
              "    <tr>\n",
              "      <th>0</th>\n",
              "      <td>0</td>\n",
              "      <td>group B</td>\n",
              "      <td>bachelor's degree</td>\n",
              "      <td>none</td>\n",
              "      <td>0.72</td>\n",
              "      <td>0.72</td>\n",
              "      <td>0.74</td>\n",
              "      <td>F</td>\n",
              "    </tr>\n",
              "    <tr>\n",
              "      <th>1</th>\n",
              "      <td>1</td>\n",
              "      <td>group C</td>\n",
              "      <td>some college</td>\n",
              "      <td>completed</td>\n",
              "      <td>0.69</td>\n",
              "      <td>0.90</td>\n",
              "      <td>0.88</td>\n",
              "      <td>F</td>\n",
              "    </tr>\n",
              "    <tr>\n",
              "      <th>2</th>\n",
              "      <td>2</td>\n",
              "      <td>group B</td>\n",
              "      <td>master's degree</td>\n",
              "      <td>none</td>\n",
              "      <td>0.90</td>\n",
              "      <td>0.95</td>\n",
              "      <td>0.93</td>\n",
              "      <td>F</td>\n",
              "    </tr>\n",
              "    <tr>\n",
              "      <th>3</th>\n",
              "      <td>3</td>\n",
              "      <td>group A</td>\n",
              "      <td>associate's degree</td>\n",
              "      <td>none</td>\n",
              "      <td>0.47</td>\n",
              "      <td>0.57</td>\n",
              "      <td>0.44</td>\n",
              "      <td>M</td>\n",
              "    </tr>\n",
              "    <tr>\n",
              "      <th>4</th>\n",
              "      <td>4</td>\n",
              "      <td>group C</td>\n",
              "      <td>some college</td>\n",
              "      <td>none</td>\n",
              "      <td>0.76</td>\n",
              "      <td>0.78</td>\n",
              "      <td>0.75</td>\n",
              "      <td>M</td>\n",
              "    </tr>\n",
              "  </tbody>\n",
              "</table>\n",
              "</div>"
            ],
            "text/plain": [
              "   Unnamed: 0 race/ethnicity  ... writing score percentage sex\n",
              "0           0        group B  ...                     0.74   F\n",
              "1           1        group C  ...                     0.88   F\n",
              "2           2        group B  ...                     0.93   F\n",
              "3           3        group A  ...                     0.44   M\n",
              "4           4        group C  ...                     0.75   M\n",
              "\n",
              "[5 rows x 8 columns]"
            ]
          },
          "metadata": {},
          "execution_count": 9
        }
      ]
    },
    {
      "cell_type": "markdown",
      "metadata": {
        "id": "Z7flsdLTtc-J"
      },
      "source": [
        "**ORDENANDO** AS **COLUNAS** POR **NÍVEL DE EDUCAÇÃO** DOS **PAIS**"
      ]
    },
    {
      "cell_type": "code",
      "metadata": {
        "colab": {
          "base_uri": "https://localhost:8080/",
          "height": 416
        },
        "id": "ktqbijAf4OoE",
        "outputId": "c3a41ec3-d0f6-4c4c-e3bb-a1537d443df3"
      },
      "source": [
        "# ordenação por level of education \"educação dos pais\" que frequentaram alguma escola\n",
        "df_students.sort_values(by = [\"parental level of education\"], ascending = False)"
      ],
      "execution_count": 98,
      "outputs": [
        {
          "output_type": "execute_result",
          "data": {
            "text/html": [
              "<div>\n",
              "<style scoped>\n",
              "    .dataframe tbody tr th:only-of-type {\n",
              "        vertical-align: middle;\n",
              "    }\n",
              "\n",
              "    .dataframe tbody tr th {\n",
              "        vertical-align: top;\n",
              "    }\n",
              "\n",
              "    .dataframe thead th {\n",
              "        text-align: right;\n",
              "    }\n",
              "</style>\n",
              "<table border=\"1\" class=\"dataframe\">\n",
              "  <thead>\n",
              "    <tr style=\"text-align: right;\">\n",
              "      <th></th>\n",
              "      <th>Unnamed: 0</th>\n",
              "      <th>race/ethnicity</th>\n",
              "      <th>parental level of education</th>\n",
              "      <th>lunch</th>\n",
              "      <th>test preparation course</th>\n",
              "      <th>math percentage</th>\n",
              "      <th>reading score percentage</th>\n",
              "      <th>writing score percentage</th>\n",
              "      <th>sex</th>\n",
              "    </tr>\n",
              "  </thead>\n",
              "  <tbody>\n",
              "    <tr>\n",
              "      <th>546</th>\n",
              "      <td>546</td>\n",
              "      <td>group A</td>\n",
              "      <td>some high school</td>\n",
              "      <td>standard</td>\n",
              "      <td>completed</td>\n",
              "      <td>0.92</td>\n",
              "      <td>1.00</td>\n",
              "      <td>0.97</td>\n",
              "      <td>F</td>\n",
              "    </tr>\n",
              "    <tr>\n",
              "      <th>265</th>\n",
              "      <td>265</td>\n",
              "      <td>group D</td>\n",
              "      <td>some high school</td>\n",
              "      <td>free/reduced</td>\n",
              "      <td>none</td>\n",
              "      <td>0.59</td>\n",
              "      <td>0.42</td>\n",
              "      <td>0.41</td>\n",
              "      <td>M</td>\n",
              "    </tr>\n",
              "    <tr>\n",
              "      <th>223</th>\n",
              "      <td>223</td>\n",
              "      <td>group D</td>\n",
              "      <td>some high school</td>\n",
              "      <td>standard</td>\n",
              "      <td>none</td>\n",
              "      <td>0.86</td>\n",
              "      <td>0.80</td>\n",
              "      <td>0.75</td>\n",
              "      <td>M</td>\n",
              "    </tr>\n",
              "    <tr>\n",
              "      <th>222</th>\n",
              "      <td>222</td>\n",
              "      <td>group C</td>\n",
              "      <td>some high school</td>\n",
              "      <td>free/reduced</td>\n",
              "      <td>none</td>\n",
              "      <td>0.55</td>\n",
              "      <td>0.65</td>\n",
              "      <td>0.62</td>\n",
              "      <td>F</td>\n",
              "    </tr>\n",
              "    <tr>\n",
              "      <th>722</th>\n",
              "      <td>722</td>\n",
              "      <td>group B</td>\n",
              "      <td>some high school</td>\n",
              "      <td>free/reduced</td>\n",
              "      <td>completed</td>\n",
              "      <td>0.74</td>\n",
              "      <td>0.90</td>\n",
              "      <td>0.88</td>\n",
              "      <td>F</td>\n",
              "    </tr>\n",
              "    <tr>\n",
              "      <th>...</th>\n",
              "      <td>...</td>\n",
              "      <td>...</td>\n",
              "      <td>...</td>\n",
              "      <td>...</td>\n",
              "      <td>...</td>\n",
              "      <td>...</td>\n",
              "      <td>...</td>\n",
              "      <td>...</td>\n",
              "      <td>...</td>\n",
              "    </tr>\n",
              "    <tr>\n",
              "      <th>606</th>\n",
              "      <td>606</td>\n",
              "      <td>group C</td>\n",
              "      <td>associate's degree</td>\n",
              "      <td>standard</td>\n",
              "      <td>none</td>\n",
              "      <td>0.85</td>\n",
              "      <td>0.84</td>\n",
              "      <td>0.82</td>\n",
              "      <td>F</td>\n",
              "    </tr>\n",
              "    <tr>\n",
              "      <th>310</th>\n",
              "      <td>310</td>\n",
              "      <td>group B</td>\n",
              "      <td>associate's degree</td>\n",
              "      <td>standard</td>\n",
              "      <td>none</td>\n",
              "      <td>0.73</td>\n",
              "      <td>0.76</td>\n",
              "      <td>0.80</td>\n",
              "      <td>F</td>\n",
              "    </tr>\n",
              "    <tr>\n",
              "      <th>826</th>\n",
              "      <td>826</td>\n",
              "      <td>group C</td>\n",
              "      <td>associate's degree</td>\n",
              "      <td>free/reduced</td>\n",
              "      <td>completed</td>\n",
              "      <td>0.56</td>\n",
              "      <td>0.68</td>\n",
              "      <td>0.70</td>\n",
              "      <td>F</td>\n",
              "    </tr>\n",
              "    <tr>\n",
              "      <th>313</th>\n",
              "      <td>313</td>\n",
              "      <td>group C</td>\n",
              "      <td>associate's degree</td>\n",
              "      <td>free/reduced</td>\n",
              "      <td>completed</td>\n",
              "      <td>0.68</td>\n",
              "      <td>0.67</td>\n",
              "      <td>0.69</td>\n",
              "      <td>F</td>\n",
              "    </tr>\n",
              "    <tr>\n",
              "      <th>719</th>\n",
              "      <td>719</td>\n",
              "      <td>group E</td>\n",
              "      <td>associate's degree</td>\n",
              "      <td>free/reduced</td>\n",
              "      <td>completed</td>\n",
              "      <td>0.91</td>\n",
              "      <td>0.73</td>\n",
              "      <td>0.80</td>\n",
              "      <td>M</td>\n",
              "    </tr>\n",
              "  </tbody>\n",
              "</table>\n",
              "<p>1000 rows × 9 columns</p>\n",
              "</div>"
            ],
            "text/plain": [
              "     Unnamed: 0 race/ethnicity  ... writing score percentage sex\n",
              "546         546        group A  ...                     0.97   F\n",
              "265         265        group D  ...                     0.41   M\n",
              "223         223        group D  ...                     0.75   M\n",
              "222         222        group C  ...                     0.62   F\n",
              "722         722        group B  ...                     0.88   F\n",
              "..          ...            ...  ...                      ...  ..\n",
              "606         606        group C  ...                     0.82   F\n",
              "310         310        group B  ...                     0.80   F\n",
              "826         826        group C  ...                     0.70   F\n",
              "313         313        group C  ...                     0.69   F\n",
              "719         719        group E  ...                     0.80   M\n",
              "\n",
              "[1000 rows x 9 columns]"
            ]
          },
          "metadata": {},
          "execution_count": 98
        }
      ]
    },
    {
      "cell_type": "code",
      "metadata": {
        "colab": {
          "base_uri": "https://localhost:8080/"
        },
        "id": "PZt17lFo7HDL",
        "outputId": "519f8af7-c5bc-4909-c955-dabb71b460b3"
      },
      "source": [
        "# categorias e quantidades por level of education \"educação dos pais\"\n",
        "df_students[\"parental level of education\"].value_counts()"
      ],
      "execution_count": 99,
      "outputs": [
        {
          "output_type": "execute_result",
          "data": {
            "text/plain": [
              "some college          226\n",
              "associate's degree    222\n",
              "high school           196\n",
              "some high school      179\n",
              "bachelor's degree     118\n",
              "master's degree        59\n",
              "Name: parental level of education, dtype: int64"
            ]
          },
          "metadata": {},
          "execution_count": 99
        }
      ]
    },
    {
      "cell_type": "markdown",
      "metadata": {
        "id": "FGxmVjl--pKK"
      },
      "source": [
        "## 3 - Descritivo e exploração de dados com pandas (groupbys):"
      ]
    },
    {
      "cell_type": "markdown",
      "metadata": {
        "id": "lPMiHOgCDuOG"
      },
      "source": [
        "**AGRUPANDO** AS **MÉDIAS** DOS GRUPOS ATRAVÉS DA **RAÇA/ETNIA** "
      ]
    },
    {
      "cell_type": "code",
      "metadata": {
        "colab": {
          "base_uri": "https://localhost:8080/",
          "height": 267
        },
        "id": "oXP9fJc--rGV",
        "outputId": "2e15b2ce-a100-435c-f081-ba67400b27ef"
      },
      "source": [
        "# média das notas obtidas pelos alunos em matemática, leitura e escrita\n",
        "df_students.groupby('race/ethnicity')['math percentage', 'reading score percentage', 'writing score percentage'].mean()"
      ],
      "execution_count": 100,
      "outputs": [
        {
          "output_type": "stream",
          "name": "stderr",
          "text": [
            "/usr/local/lib/python3.7/dist-packages/ipykernel_launcher.py:2: FutureWarning: Indexing with multiple keys (implicitly converted to a tuple of keys) will be deprecated, use a list instead.\n",
            "  \n"
          ]
        },
        {
          "output_type": "execute_result",
          "data": {
            "text/html": [
              "<div>\n",
              "<style scoped>\n",
              "    .dataframe tbody tr th:only-of-type {\n",
              "        vertical-align: middle;\n",
              "    }\n",
              "\n",
              "    .dataframe tbody tr th {\n",
              "        vertical-align: top;\n",
              "    }\n",
              "\n",
              "    .dataframe thead th {\n",
              "        text-align: right;\n",
              "    }\n",
              "</style>\n",
              "<table border=\"1\" class=\"dataframe\">\n",
              "  <thead>\n",
              "    <tr style=\"text-align: right;\">\n",
              "      <th></th>\n",
              "      <th>math percentage</th>\n",
              "      <th>reading score percentage</th>\n",
              "      <th>writing score percentage</th>\n",
              "    </tr>\n",
              "    <tr>\n",
              "      <th>race/ethnicity</th>\n",
              "      <th></th>\n",
              "      <th></th>\n",
              "      <th></th>\n",
              "    </tr>\n",
              "  </thead>\n",
              "  <tbody>\n",
              "    <tr>\n",
              "      <th>group A</th>\n",
              "      <td>0.616292</td>\n",
              "      <td>0.646742</td>\n",
              "      <td>0.626742</td>\n",
              "    </tr>\n",
              "    <tr>\n",
              "      <th>group B</th>\n",
              "      <td>0.634526</td>\n",
              "      <td>0.673526</td>\n",
              "      <td>0.656000</td>\n",
              "    </tr>\n",
              "    <tr>\n",
              "      <th>group C</th>\n",
              "      <td>0.644639</td>\n",
              "      <td>0.691034</td>\n",
              "      <td>0.678276</td>\n",
              "    </tr>\n",
              "    <tr>\n",
              "      <th>group D</th>\n",
              "      <td>0.673626</td>\n",
              "      <td>0.700305</td>\n",
              "      <td>0.701450</td>\n",
              "    </tr>\n",
              "    <tr>\n",
              "      <th>group E</th>\n",
              "      <td>0.738214</td>\n",
              "      <td>0.730286</td>\n",
              "      <td>0.714071</td>\n",
              "    </tr>\n",
              "  </tbody>\n",
              "</table>\n",
              "</div>"
            ],
            "text/plain": [
              "                math percentage  ...  writing score percentage\n",
              "race/ethnicity                   ...                          \n",
              "group A                0.616292  ...                  0.626742\n",
              "group B                0.634526  ...                  0.656000\n",
              "group C                0.644639  ...                  0.678276\n",
              "group D                0.673626  ...                  0.701450\n",
              "group E                0.738214  ...                  0.714071\n",
              "\n",
              "[5 rows x 3 columns]"
            ]
          },
          "metadata": {},
          "execution_count": 100
        }
      ]
    },
    {
      "cell_type": "code",
      "metadata": {
        "colab": {
          "base_uri": "https://localhost:8080/",
          "height": 264
        },
        "id": "95GcPhyTGfXc",
        "outputId": "133e090f-3337-4745-bf6f-dfb8e1d4b90a"
      },
      "source": [
        "# analisando as maiores e menores notas em porcentagem matemática, porcentagem de pontuação de leitura e porcentagem de pontuação de escrita\n",
        "df_students.groupby('race/ethnicity').agg({'math percentage' : ['min', 'max'], 'reading score percentage' : ['min', 'max'],  'writing score percentage' : ['min', 'max']})"
      ],
      "execution_count": 103,
      "outputs": [
        {
          "output_type": "execute_result",
          "data": {
            "text/html": [
              "<div>\n",
              "<style scoped>\n",
              "    .dataframe tbody tr th:only-of-type {\n",
              "        vertical-align: middle;\n",
              "    }\n",
              "\n",
              "    .dataframe tbody tr th {\n",
              "        vertical-align: top;\n",
              "    }\n",
              "\n",
              "    .dataframe thead tr th {\n",
              "        text-align: left;\n",
              "    }\n",
              "\n",
              "    .dataframe thead tr:last-of-type th {\n",
              "        text-align: right;\n",
              "    }\n",
              "</style>\n",
              "<table border=\"1\" class=\"dataframe\">\n",
              "  <thead>\n",
              "    <tr>\n",
              "      <th></th>\n",
              "      <th colspan=\"2\" halign=\"left\">math percentage</th>\n",
              "      <th colspan=\"2\" halign=\"left\">reading score percentage</th>\n",
              "      <th colspan=\"2\" halign=\"left\">writing score percentage</th>\n",
              "    </tr>\n",
              "    <tr>\n",
              "      <th></th>\n",
              "      <th>min</th>\n",
              "      <th>max</th>\n",
              "      <th>min</th>\n",
              "      <th>max</th>\n",
              "      <th>min</th>\n",
              "      <th>max</th>\n",
              "    </tr>\n",
              "    <tr>\n",
              "      <th>race/ethnicity</th>\n",
              "      <th></th>\n",
              "      <th></th>\n",
              "      <th></th>\n",
              "      <th></th>\n",
              "      <th></th>\n",
              "      <th></th>\n",
              "    </tr>\n",
              "  </thead>\n",
              "  <tbody>\n",
              "    <tr>\n",
              "      <th>group A</th>\n",
              "      <td>0.28</td>\n",
              "      <td>1.00</td>\n",
              "      <td>0.23</td>\n",
              "      <td>1.00</td>\n",
              "      <td>0.19</td>\n",
              "      <td>0.97</td>\n",
              "    </tr>\n",
              "    <tr>\n",
              "      <th>group B</th>\n",
              "      <td>0.08</td>\n",
              "      <td>0.97</td>\n",
              "      <td>0.24</td>\n",
              "      <td>0.97</td>\n",
              "      <td>0.15</td>\n",
              "      <td>0.96</td>\n",
              "    </tr>\n",
              "    <tr>\n",
              "      <th>group C</th>\n",
              "      <td>0.00</td>\n",
              "      <td>0.98</td>\n",
              "      <td>0.17</td>\n",
              "      <td>1.00</td>\n",
              "      <td>0.10</td>\n",
              "      <td>1.00</td>\n",
              "    </tr>\n",
              "    <tr>\n",
              "      <th>group D</th>\n",
              "      <td>0.26</td>\n",
              "      <td>1.00</td>\n",
              "      <td>0.31</td>\n",
              "      <td>1.00</td>\n",
              "      <td>0.32</td>\n",
              "      <td>1.00</td>\n",
              "    </tr>\n",
              "    <tr>\n",
              "      <th>group E</th>\n",
              "      <td>0.30</td>\n",
              "      <td>1.00</td>\n",
              "      <td>0.26</td>\n",
              "      <td>1.00</td>\n",
              "      <td>0.22</td>\n",
              "      <td>1.00</td>\n",
              "    </tr>\n",
              "  </tbody>\n",
              "</table>\n",
              "</div>"
            ],
            "text/plain": [
              "               math percentage        ... writing score percentage      \n",
              "                           min   max  ...                      min   max\n",
              "race/ethnicity                        ...                               \n",
              "group A                   0.28  1.00  ...                     0.19  0.97\n",
              "group B                   0.08  0.97  ...                     0.15  0.96\n",
              "group C                   0.00  0.98  ...                     0.10  1.00\n",
              "group D                   0.26  1.00  ...                     0.32  1.00\n",
              "group E                   0.30  1.00  ...                     0.22  1.00\n",
              "\n",
              "[5 rows x 6 columns]"
            ]
          },
          "metadata": {},
          "execution_count": 103
        }
      ]
    },
    {
      "cell_type": "markdown",
      "metadata": {
        "id": "P2uKh6nhO9gT"
      },
      "source": [
        "**QUANTIDADE** DE ESTUDANTES: **MASCULINOS** E **FEMININOS** "
      ]
    },
    {
      "cell_type": "code",
      "metadata": {
        "colab": {
          "base_uri": "https://localhost:8080/"
        },
        "id": "sFU60TA6PKI3",
        "outputId": "cf08c32a-c32b-47c9-e4a7-79566784917e"
      },
      "source": [
        "# quantidade de meninas e meninos\n",
        "df_students.groupby('sex')['sex'].count()"
      ],
      "execution_count": 104,
      "outputs": [
        {
          "output_type": "execute_result",
          "data": {
            "text/plain": [
              "sex\n",
              "F    518\n",
              "M    482\n",
              "Name: sex, dtype: int64"
            ]
          },
          "metadata": {},
          "execution_count": 104
        }
      ]
    },
    {
      "cell_type": "code",
      "metadata": {
        "colab": {
          "base_uri": "https://localhost:8080/",
          "height": 265
        },
        "id": "PQ2ult--LOtX",
        "outputId": "942a406e-3525-4f4c-8bfe-d54f7096048e"
      },
      "source": [
        "# em gráfico\n",
        "cores = ['#ff4e33', '#00FFFF']\n",
        "df_students.sex.value_counts().plot(kind = 'pie', autopct = '%.2f%%', shadow = True, colors = cores)"
      ],
      "execution_count": 105,
      "outputs": [
        {
          "output_type": "execute_result",
          "data": {
            "text/plain": [
              "<matplotlib.axes._subplots.AxesSubplot at 0x7f17466ec8d0>"
            ]
          },
          "metadata": {},
          "execution_count": 105
        },
        {
          "output_type": "display_data",
          "data": {
            "image/png": "[encoded data removed]",
            "text/plain": [
              "<Figure size 432x288 with 1 Axes>"
            ]
          },
          "metadata": {}
        }
      ]
    },
    {
      "cell_type": "markdown",
      "metadata": {
        "id": "HxJcmi1qXiCz"
      },
      "source": [
        "**QUANTIDADE** DE ESTUDANTES QUE FIZERAM e NÃO FIZERAM **CURSO PREPARATÓRIO**"
      ]
    },
    {
      "cell_type": "code",
      "metadata": {
        "colab": {
          "base_uri": "https://localhost:8080/"
        },
        "id": "wINhv4uCX4zr",
        "outputId": "1dbf3013-2484-46f8-ebfd-c3e928c13e9f"
      },
      "source": [
        "# quantidade de cursos preparatórios\n",
        "df_students.groupby('test preparation course')['test preparation course'].count()"
      ],
      "execution_count": 107,
      "outputs": [
        {
          "output_type": "execute_result",
          "data": {
            "text/plain": [
              "test preparation course\n",
              "completed    358\n",
              "none         642\n",
              "Name: test preparation course, dtype: int64"
            ]
          },
          "metadata": {},
          "execution_count": 107
        }
      ]
    },
    {
      "cell_type": "code",
      "metadata": {
        "colab": {
          "base_uri": "https://localhost:8080/",
          "height": 265
        },
        "id": "n-ytc6r0LbMI",
        "outputId": "2e6cc180-5e2b-4d06-9ce5-a4d01848dbba"
      },
      "source": [
        "# em gráfico\n",
        "cores = ['#7E33FF', '#00FF7F']\n",
        "df_students['test preparation course'].value_counts().plot(kind = 'pie', autopct = '%.2f%%', shadow = True, colors = cores)"
      ],
      "execution_count": 108,
      "outputs": [
        {
          "output_type": "execute_result",
          "data": {
            "text/plain": [
              "<matplotlib.axes._subplots.AxesSubplot at 0x7f1746918f50>"
            ]
          },
          "metadata": {},
          "execution_count": 108
        },
        {
          "output_type": "display_data",
          "data": {
            "image/png": "[encoded data removed]",
            "text/plain": [
              "<Figure size 432x288 with 1 Axes>"
            ]
          },
          "metadata": {}
        }
      ]
    },
    {
      "cell_type": "markdown",
      "metadata": {
        "id": "WOlJPXpnQSaG"
      },
      "source": [
        "## 4 - Figuras que mostrem insights sobre os dados com pandas e matplotlib:"
      ]
    },
    {
      "cell_type": "markdown",
      "metadata": {
        "id": "st_NV_05SP9r"
      },
      "source": [
        "GRAFICO COM RELAÇÃO A **PORCENTAGEM DOS GRUPOS**"
      ]
    },
    {
      "cell_type": "code",
      "metadata": {
        "colab": {
          "base_uri": "https://localhost:8080/",
          "height": 590
        },
        "id": "mWrnxQWzSek7",
        "outputId": "1e3979cc-2ad8-4c4a-9dfe-a4cc90a34be6"
      },
      "source": [
        "# gerando gráficos com porcentagem nos grupos\n",
        "plt.figure(figsize = (20, 10))\n",
        "\n",
        "x = df_students['race/ethnicity'].value_counts()\n",
        "\n",
        "plt.pie(x, labels = x.index, autopct = '%.2f%%',  shadow = True)\n",
        "plt.title('Raça/Etnia')\n",
        "plt.legend(loc = 'upper left')\n",
        "plt.savefig('/home/grupos.png', dpi = 300)\n",
        "plt.show()\n"
      ],
      "execution_count": 109,
      "outputs": [
        {
          "output_type": "display_data",
          "data": {
            "image/png": "[encoded data removed]",
            "text/plain": [
              "<Figure size 1440x720 with 1 Axes>"
            ]
          },
          "metadata": {}
        }
      ]
    },
    {
      "cell_type": "markdown",
      "metadata": {
        "id": "L9rj_FpMaGP_"
      },
      "source": [
        "## REFERÊNCIA "
      ]
    },
    {
      "cell_type": "markdown",
      "metadata": {
        "id": "rn-HfoNVaKf8"
      },
      "source": [
        "Disponível em: < https://www.kaggle.com/sonukumari47/students-performance-in-exams >"
      ]
    }
  ]
}